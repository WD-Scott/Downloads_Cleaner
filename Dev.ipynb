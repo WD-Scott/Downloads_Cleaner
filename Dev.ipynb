{
 "cells": [
  {
   "cell_type": "code",
   "execution_count": 10,
   "id": "ea41ff06-0219-43fd-967f-8e00fa79922e",
   "metadata": {},
   "outputs": [],
   "source": [
    "f = ['data.csv', 'data2.csv', 'doc.pdf', 'aoc.doc']"
   ]
  },
  {
   "cell_type": "code",
   "execution_count": 11,
   "id": "3c1c245b-560b-41f3-a7aa-a0cc4ac33236",
   "metadata": {},
   "outputs": [
    {
     "data": {
      "text/plain": [
       "['aoc.doc', 'data.csv', 'data2.csv', 'doc.pdf']"
      ]
     },
     "execution_count": 11,
     "metadata": {},
     "output_type": "execute_result"
    }
   ],
   "source": [
    "sorted(f)"
   ]
  },
  {
   "cell_type": "code",
   "execution_count": 15,
   "id": "db0cace8-e4c7-4792-9a80-05091a4af5e7",
   "metadata": {},
   "outputs": [
    {
     "data": {
      "text/plain": [
       "['data.csv', 'data2.csv', 'aoc.doc', 'doc.pdf']"
      ]
     },
     "execution_count": 15,
     "metadata": {},
     "output_type": "execute_result"
    }
   ],
   "source": [
    "sorted(f, key=lambda f: f.split('.')[-1])"
   ]
  },
  {
   "cell_type": "code",
   "execution_count": 17,
   "id": "2c1e24fb-f3c0-4c0b-ab58-c0602f298312",
   "metadata": {},
   "outputs": [
    {
     "name": "stdout",
     "output_type": "stream",
     "text": [
      "['data.csv', 'data2.csv', 'aoc.doc', 'doc.pdf']\n"
     ]
    }
   ],
   "source": [
    "print(sorted(f, key=lambda f: f.split('.')[-1]))"
   ]
  },
  {
   "cell_type": "code",
   "execution_count": null,
   "id": "fcd33442-89d4-4d68-8059-56288fd5c629",
   "metadata": {},
   "outputs": [],
   "source": []
  }
 ],
 "metadata": {
  "kernelspec": {
   "display_name": "Python 3 (ipykernel)",
   "language": "python",
   "name": "python3"
  },
  "language_info": {
   "codemirror_mode": {
    "name": "ipython",
    "version": 3
   },
   "file_extension": ".py",
   "mimetype": "text/x-python",
   "name": "python",
   "nbconvert_exporter": "python",
   "pygments_lexer": "ipython3",
   "version": "3.11.0"
  }
 },
 "nbformat": 4,
 "nbformat_minor": 5
}
